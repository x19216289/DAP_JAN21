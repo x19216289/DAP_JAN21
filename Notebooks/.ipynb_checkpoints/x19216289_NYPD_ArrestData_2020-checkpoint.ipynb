{
 "cells": [
  {
   "cell_type": "markdown",
   "metadata": {},
   "source": [
    "### Import Necessary Packages"
   ]
  },
  {
   "cell_type": "code",
   "execution_count": null,
   "metadata": {},
   "outputs": [],
   "source": [
    "import requests\n",
    "from requests.exceptions import HTTPError\n",
    "from pymongo import MongoClient\n",
    "import pandas as pd\n",
    "from pandas import DataFrame\n",
    "import pandas.io.sql as sqlio\n",
    "import psycopg2\n",
    "from sqlalchemy import create_engine\n",
    "import plotly.express as px"
   ]
  },
  {
   "cell_type": "code",
   "execution_count": null,
   "metadata": {},
   "outputs": [],
   "source": [
    "def Main_NYPDArrestData():\n",
    "    try:\n",
    "        levelOfOffenseDict = {'F': 'Felony', 'M':'Misdemeanor', 'V':'Violation' }\n",
    "        boroughOfArrestDict = {'B': 'Bronx', 'S': 'Staten Island', 'K': 'Brooklyn', 'M': 'Manhattan', 'Q': 'Queens'}\n",
    "        jurisdictionCodeDict = {0: 'Patrol', 1: 'Transit', 2: 'Housing'}\n",
    "        dbConnectionParamDict = {\n",
    "            'host'      : '192.168.56.30',\n",
    "            'port'      : '5432',\n",
    "            'database'  : 'postgres',\n",
    "            'user'      : 'dap',\n",
    "            'password'  : 'dap'\n",
    "        }\n",
    "        \n",
    "        \n",
    "        print('\\n********** GET NYPD ARREST DATA **********\\n')\n",
    "        # Call to the funtion 'APICall_GetNYPDArrestData' to get the response object from the API\n",
    "        nypdArrestDataResponse = APICall_GetNYPDArrestData()\n",
    "        if nypdArrestDataResponse == None:\n",
    "            print('Failed to get API response, hence can\\'t proceed further!!!')\n",
    "        \n",
    "        print('\\n********** Connecting to MongoDB and creating a collection inside MongoDB **********\\n')\n",
    "        # Call to the funtion 'MongoDB_InsertJsonToCollection(jsonData)' to create and insert json data into a collection in MongoDB\n",
    "        # Funtions also returns MongoDB collections\n",
    "        nypdArrestDataCollection = MongoDB_InsertJsonToCollection(nypdArrestDataResponse)\n",
    "        if nypdArrestDataCollection == None:\n",
    "            print('Failed perform operations in MongoDB, hence can\\'t proceed further!!!') \n",
    "        \n",
    "        print('\\n********** Data Cleaning **********\\n')\n",
    "        # Call to the funtion 'MongoDB_RemoveRecordsColumnsFromCollection(nypdArrestDataCollection)' \n",
    "        # Funtion returns updated collection object after removing records from the collection\n",
    "        nypdArrestDataCollection = MongoDB_RemoveRecordsColumnsFromCollection(nypdArrestDataCollection)\n",
    "        \n",
    "        print('\\n********** Transforming MongoDB collection into Pandas Dataframe **********\\n')\n",
    "        # Call to function CollectionToDataFrame(nypdArrestDataCollection) which converts Collection to a pandas DataFrame\n",
    "        # Function also returns DataFrame object\n",
    "        nypdArrestDataDataFrame = CollectionToDataFrame(nypdArrestDataCollection)\n",
    "        print('Below is the data frame obtained after converting collection to dataframe\\n')\n",
    "        display(nypdArrestDataDataFrame)\n",
    "        \n",
    "        print('\\n********** Data Transformation **********\\n')\n",
    "        printString = '''Objective of this section is to transform the data like changing the data type to meaningfull data types, renaming the column names and imputing meaningful values for the columns which has single character as a value.'''\n",
    "        print(printString)\n",
    "        # Call to funtion DataFrame_AddRenameRemoveChangeColumnDataTypes(nypdArrestDataDataFrame) \n",
    "        # Function will renames the columns and also changes the data type of the column from object to appropriate data type\n",
    "        # Return updated DataFrame\n",
    "        nypdArrestDataDataFrame = DataFrame_AddRenameRemoveChangeColumnDataTypes(nypdArrestDataDataFrame)\n",
    "        print(f'Data types of each column is \\n\\n{nypdArrestDataDataFrame.dtypes}\\n')\n",
    "        print('Dataframe after renaming, removing columns and changing the data type\\n')\n",
    "        display(nypdArrestDataDataFrame)\n",
    "        \n",
    "        # Function call to change the values in level_of_offense column. \n",
    "        nypdArrestDataDataFrame = DataFrame_ChangeColumnValues(nypdArrestDataDataFrame, 'level_of_offense', levelOfOffenseDict)\n",
    "        # Function call to change the values in borough_of_arrest column\n",
    "        nypdArrestDataDataFrame = DataFrame_ChangeColumnValues(nypdArrestDataDataFrame, 'borough_of_arrest', boroughOfArrestDict)\n",
    "        # Changing all the values of jurisdiction_code >= 3 to Non NYPD Jurisdiction\n",
    "        nypdArrestDataDataFrame.loc[(nypdArrestDataDataFrame.jurisdiction_code >= 3),'jurisdiction_code']='Non NYPD Jurisdiction'\n",
    "        # Function call to change the values in jurisdiction_code column\n",
    "        nypdArrestDataDataFrame = DataFrame_ChangeColumnValues(nypdArrestDataDataFrame, 'jurisdiction_code', jurisdictionCodeDict)\n",
    "        display(nypdArrestDataDataFrame)\n",
    "        \n",
    "        print('\\n********** Data Visualisation **********\\n')\n",
    "        print('\\n********** Figure 1 **********\\n')\n",
    "        # Funtion call to Plot a map showing different levels of offense with an animation of playing the map according to the month.\n",
    "        Plot_LevelOfOffenseOnNewYorkMap(nypdArrestDataDataFrame)\n",
    "        print('\\n********** Figure 2 **********\\n')\n",
    "        # Funtion call to Plot a group bar graph showing total arrests in different boroughs according to offense level\n",
    "        Plot_ArrestBoroughBarGraph(nypdArrestDataDataFrame)\n",
    "        print('\\n********** Figure 3 **********\\n')\n",
    "        # Funtion call to Plot a bar graph of Total Arrests based on the Level of Offense.\n",
    "        Plot_DiffLevelOfOffenseBarGraph(nypdArrestDataDataFrame)\n",
    "        print('\\n********** Figure 4 **********\\n')\n",
    "        # Funtion call to Plot stacked bar graph showing total number of arrests by age group and perpetrator gender\n",
    "        Plot_AgeGroupBarGraph(nypdArrestDataDataFrame)\n",
    "        print('\\n********** Figure 5 **********\\n')\n",
    "        # Function call to Plot bar graph showing Arrests based on the Top Twenty crimes\n",
    "        Plot_TopTwentyCrimeBarGraph(nypdArrestDataDataFrame)\n",
    "        print('\\n********** Figure 6 **********\\n')\n",
    "        # Funtion call to Plot stacked bar graph showing Total Arrests of different crimes based on Perpetrator Race\n",
    "        Plot_DiffCrimesWithRace(nypdArrestDataDataFrame)\n",
    "        print('\\n********** Figure 7 **********\\n')\n",
    "        # Funtion call to Plot Pie chart the Composition of Perpetrator Race amongst arrest made\n",
    "        Plot_CompositionOfRacePie(nypdArrestDataDataFrame)\n",
    "\n",
    "        print('\\n********** PostgreSQL **********\\n')\n",
    "        print('Final Dataframe that is will be pushed to PostgreSQL looks like this\\n')\n",
    "        display(nypdArrestDataDataFrame)\n",
    "        # Funtion call to Create Database and Table in PostgreSQL \n",
    "        PostgreSQL_CreateDBAndTable(dbConnectionParamDict, 'team_r_database', 'nypdarrestdata_table', nypdArrestDataDataFrame)\n",
    "    except Exception as err:\n",
    "        print(f'Error while performing operation in MongoDB - {err}') \n",
    "        "
   ]
  },
  {
   "cell_type": "markdown",
   "metadata": {},
   "source": [
    "### API call to get New York City Police Department Arrest Data for the year 2020\n",
    "\n",
    "This funtion would access the open API provided by https://data.cityofnewyork.us/ using the app token generated"
   ]
  },
  {
   "cell_type": "code",
   "execution_count": null,
   "metadata": {},
   "outputs": [],
   "source": [
    "def APICall_GetNYPDArrestData():\n",
    "    print('API call to get New York City Police Department Arrest Data for the year 2020')\n",
    "    #Base URL for API call\n",
    "    baseURL = \"https://data.cityofnewyork.us/resource/uip8-fykc.json\" \n",
    "    #Token to authenticate the API\n",
    "    apiToken = \"Gp4y2I6o3Vpl2lv2HIy6XKomf\" \n",
    "    #Maximum limit of records to be fetched from the API\n",
    "    recordsLimit = str(1000000) \n",
    "    #Build the complete URL for API by integrating function parameters\n",
    "    completeUrl = baseURL + \"?$$app_token=\" + apiToken + \"&$limit=\" + recordsLimit\n",
    "    try:\n",
    "        #Get the response from the API request\n",
    "        nypdArrestDataResponse = requests.get(completeUrl)\n",
    "        # If the response for the request was successful, no Exception will be raised\n",
    "        nypdArrestDataResponse.raise_for_status()\n",
    "    except HTTPError as http_err:\n",
    "        #Exception block to handle any HTTPError related exceptions\n",
    "        print(f'HTTP error occurred: {http_err}')\n",
    "    except Exception as err:\n",
    "        #Exception block to handle any exception apart from HTTPError\n",
    "        print(f'Other error occurred: {err}')\n",
    "    else:\n",
    "        #Return the response object if API request is successful\n",
    "        print(f'Success! Response object is created successfully with {len(nypdArrestDataResponse.json())} number of records\\n')\n",
    "        return nypdArrestDataResponse"
   ]
  },
  {
   "cell_type": "markdown",
   "metadata": {},
   "source": [
    "### Connecting to MongoDB and creating a collection inside MongoDB\n",
    "\n",
    "This funtion connects with MongoDB using local host IP 127.0.0.1 and port 27017. After connecting, creates a collection to store the retrieved json data from API."
   ]
  },
  {
   "cell_type": "code",
   "execution_count": null,
   "metadata": {},
   "outputs": [],
   "source": [
    "def MongoDB_InsertJsonToCollection(jsonData):\n",
    "    \n",
    "    nypdArrestDataCollection = None\n",
    "    try:\n",
    "        # Establishing a Connection with MongoClient\n",
    "        client = MongoClient(host = '127.0.0.1:27017') \n",
    "        # Creating a Database called NYPDArrestData_Database in MongoDB\n",
    "        nypdArrestDataDB = client['NYPDArrestData_Database'] \n",
    "        # Droping the collection if already exists\n",
    "        nypdArrestDataDB.NYPDArrestData_Collection.drop() \n",
    "        # Creating a collection called NYPDArrestData_Collection with respect to NYPDArrestData_Database\n",
    "        nypdArrestDataCollection = nypdArrestDataDB['NYPDArrestData_Collection'] \n",
    "        print('Collection created in MongoDB')\n",
    "        # Inserting json record into the collection NYPDArrestData_Collection\n",
    "        nypdArrestDataCollection.insert_many(jsonData.json()) \n",
    "        print(f'Successfully inserted {nypdArrestDataDB.NYPDArrestData_Collection.count_documents({})} records into MongoDB collection\\n')\n",
    "    except Exception as err:\n",
    "        print(f'Error while performing operation in MongoDB - {err}')\n",
    "    return nypdArrestDataCollection\n",
    "        "
   ]
  },
  {
   "cell_type": "markdown",
   "metadata": {},
   "source": [
    "### Data Cleaning\n",
    "\n",
    "This function removes records from collection using logical OR operator for below conditions\n",
    "1. Blank values for the key - pd_desc, ofns_desc & law_cat_cd \n",
    "2. Key law_cat_cd with value I, because the author for the dataset have not mentioned what 'I' stands for\n",
    "3. Key perp_race with value UNKNOWN\n",
    "\n",
    "It also removes columns arrest_key, pd_cd, ky_cd, law_code, arrest_precinct, x_coord_cd, y_coord_cd, geocoded_column, \n",
    ":@computed_region_f5dn_yrer, :@computed_region_yeji_bk3q, :@computed_region_92fq_4b7q, :@computed_region_sbqj_enih &\n",
    ":@computed_region_efsh_h5xi. All mentioned columns have unique values and will not be used to infer any results from it"
   ]
  },
  {
   "cell_type": "code",
   "execution_count": null,
   "metadata": {},
   "outputs": [],
   "source": [
    "def MongoDB_RemoveRecordsColumnsFromCollection(collectionName):\n",
    "    print('Records are removed from collection using logical OR operator for below conditions\\n1. Blank values for the key - pd_desc, ofns_desc & law_cat_cd\\nKey law_cat_cd with value I, because the author for the dataset have not mentioned what \\'I\\' stands for\\n3. Key perp_race with value UNKNOWN')\n",
    "    print('It also removes columns arrest_key, pd_cd, ky_cd, law_code, arrest_precinct, x_coord_cd, y_coord_cd, geocoded_column, :@computed_region_f5dn_yrer, :@computed_region_yeji_bk3q, :@computed_region_92fq_4b7q,:@computed_region_sbqj_enih & :@computed_region_efsh_h5xi. All mentioned columns have unique values and will not be used to infer any results from it')\n",
    "    try:\n",
    "        # To delete records from the collection\n",
    "        collectionName.delete_many(\n",
    "            { '$or' : [ { 'pd_desc': { '$exists': False}}, \n",
    "                     { 'ofns_desc': { '$exists': False}},\n",
    "                     { 'law_cat_cd': { '$exists' : False}},\n",
    "                     { 'law_cat_cd': 'I'},\n",
    "                     { 'perp_race': 'UNKNOWN'}\n",
    "        ] } )\n",
    "        # To remove columns from the collection\n",
    "        collectionName.update_many({ },\n",
    "                [{ '$unset': [ 'arrest_key', 'pd_cd', 'ky_cd', 'law_code', 'arrest_precinct', 'x_coord_cd', \n",
    "                               'y_coord_cd', 'geocoded_column', ':@computed_region_f5dn_yrer', ':@computed_region_yeji_bk3q',\n",
    "                               ':@computed_region_92fq_4b7q', ':@computed_region_sbqj_enih', ':@computed_region_efsh_h5xi'] }])\n",
    "        print(f'Total number of records after removing -  {collectionName.count_documents({})}\\n')\n",
    "    except Exception as err:\n",
    "        print(f'Error while performing operation in MongoDB - {err}')\n",
    "    return collectionName"
   ]
  },
  {
   "cell_type": "markdown",
   "metadata": {},
   "source": [
    "### Transforming MongoDB collection into Pandas Dataframe\n",
    "\n",
    "This function converts the MongoDB collection type to Pandas Dataframe"
   ]
  },
  {
   "cell_type": "code",
   "execution_count": null,
   "metadata": {},
   "outputs": [],
   "source": [
    "def CollectionToDataFrame(collectionName):\n",
    "    print('Converting MongoDB collection type to Pandas Dataframe')\n",
    "    nypdArrestDataDataFrame = None\n",
    "    try:\n",
    "        # Creating a cursor for the collection\n",
    "        nypdArrestDataCursor = collectionName.find()\n",
    "        # Creating a list of dictionaries based on the cursor created\n",
    "        nypdArrestDataList = list(nypdArrestDataCursor)\n",
    "        # Coverting list of dictionaries as dataframe nypdArrestDataDataFrame\n",
    "        nypdArrestDataDataFrame = DataFrame(nypdArrestDataList)\n",
    "    except Exception as err:\n",
    "        print(f'Error while converting collection to dataframe - {err}')\n",
    "    return nypdArrestDataDataFrame"
   ]
  },
  {
   "cell_type": "markdown",
   "metadata": {},
   "source": [
    "### Data Transformation\n",
    "\n",
    "Objective of this section is to transform the data like changing the data type to meaningfull data types, renaming the column names and imputing meaningful values for the columns which has single character as a value."
   ]
  },
  {
   "cell_type": "markdown",
   "metadata": {},
   "source": [
    "This function renames the columns and also changes the data type of the column from object to mentioned data type"
   ]
  },
  {
   "cell_type": "code",
   "execution_count": null,
   "metadata": {},
   "outputs": [],
   "source": [
    "def DataFrame_AddRenameRemoveChangeColumnDataTypes(dataFrame):\n",
    "    try:\n",
    "        # Renaming Columns of the dataFrame\n",
    "        dataFrame.rename(columns = {'pd_desc': 'internal_Classification_description',\n",
    "                                   'ofns_desc':'offense_description',\n",
    "                                   'law_cat_cd': 'level_of_offense',\n",
    "                                   'arrest_boro': 'borough_of_arrest',\n",
    "                                   'age_group': 'perpetrator_age_group',\n",
    "                                   'perp_sex': 'perpetrator_sex',\n",
    "                                   'perp_race': 'perpetrator_race'},inplace=True)\n",
    "        # Removing _id column\n",
    "        if '_id' in dataFrame.columns:\n",
    "            dataFrame = dataFrame.drop(columns='_id')\n",
    "        # Converting the data type of arrest_date column to date time values\n",
    "        dataFrame[['arrest_date']] = dataFrame[['arrest_date']].apply(pd.to_datetime)\n",
    "        dataFrame[['jurisdiction_code']] = dataFrame[['jurisdiction_code']].apply(pd.to_numeric)\n",
    "        dataFrame[['latitude', 'longitude']] = dataFrame[['latitude', 'longitude']].apply(pd.to_numeric)\n",
    "        # Adding month columns to the dataframe extracted from 'arrest_date' column\n",
    "        dataFrame['month_name'] = dataFrame['arrest_date'].dt.month_name()\n",
    "        dataFrame['month_number'] = dataFrame['arrest_date'].dt.month\n",
    "    except Exception as err:\n",
    "        print(f'Error while converting collection to dataframe - {err}')\n",
    "    return dataFrame"
   ]
  },
  {
   "cell_type": "markdown",
   "metadata": {},
   "source": [
    "This Funtion will change columns values based on the column name and values passed as a dictionary"
   ]
  },
  {
   "cell_type": "code",
   "execution_count": null,
   "metadata": {},
   "outputs": [],
   "source": [
    "def DataFrame_ChangeColumnValues(dataFrame, columnName, dictName):\n",
    "    try:\n",
    "        print(f'Changing {columnName} column values')\n",
    "        dataFrame[columnName].replace(dictName, inplace=True)   \n",
    "    except Exception as err:\n",
    "        print(f'Error while converting collection to dataframe - {err}')\n",
    "    return dataFrame"
   ]
  },
  {
   "cell_type": "markdown",
   "metadata": {},
   "source": [
    "### Data Visualisation\n"
   ]
  },
  {
   "cell_type": "markdown",
   "metadata": {},
   "source": [
    "Funtion to Plot a map showing different levels of offense with an animation of playing the map according to the month."
   ]
  },
  {
   "cell_type": "code",
   "execution_count": null,
   "metadata": {
    "scrolled": false
   },
   "outputs": [],
   "source": [
    "def Plot_LevelOfOffenseOnNewYorkMap(dataFrame):\n",
    "    print('Plotting a map showing different levels of offense with an animation of playing the map according to the month.\\n')\n",
    "    try:\n",
    "        fig = px.scatter_mapbox(dataFrame.sort_values(by='month_number', ascending=True), lat=\"latitude\", lon=\"longitude\", \n",
    "                            zoom=9, animation_frame='month_number', color = 'level_of_offense',\n",
    "                            labels= {'level_of_offense':'Level Of Offense'},\n",
    "                            hover_data=['offense_description', 'perpetrator_race', 'borough_of_arrest'],\n",
    "                            color_discrete_sequence=['#bcdb30', '#ed0942', '#3066db'], title= 'ABC')\n",
    "\n",
    "        fig.update_layout(mapbox_style=\"open-street-map\")\n",
    "        fig.update_layout(margin={\"r\":1,\"t\":1,\"l\":1,\"b\":1})\n",
    "        fig.show()  \n",
    "    except Exception as err:\n",
    "        print(f'Error while plotting map - {err}')\n",
    "    print('\\nAn animation of playing the map according to the month number shows the difference in arrest levels in different parts of NYC. This trend might be due to the pandemic in 2020\\n')"
   ]
  },
  {
   "cell_type": "markdown",
   "metadata": {},
   "source": [
    "Funtion to Plot group bar graph showing total arrests in different boroughs according to Offense level"
   ]
  },
  {
   "cell_type": "code",
   "execution_count": null,
   "metadata": {},
   "outputs": [],
   "source": [
    "def Plot_ArrestBoroughBarGraph(dataFrame):\n",
    "    print('Plotting group bar graph showing total arrests in different boroughs according to Offense level')\n",
    "    try:\n",
    "        groupByDataFrame1 = dataFrame.groupby(['level_of_offense','borough_of_arrest'], as_index=False)['offense_description'].count()\n",
    "        display(groupByDataFrame1)\n",
    "        fig = px.bar(groupByDataFrame1, x='borough_of_arrest', y='offense_description', \n",
    "                     labels={'borough_of_arrest':'Borough Of Arrest', 'offense_description':'Total Arrests', 'level_of_offense':'Level Of Offense'}, \n",
    "                     color='level_of_offense', color_discrete_sequence=['#bcdb30', '#ed0942', '#3066db'],\n",
    "                     height=500, width=800, title='Total Arrests in Different Boroughs According to Offense Level')\n",
    "\n",
    "        fig.update_layout(barmode='group')\n",
    "        fig.show()\n",
    "    except Exception as err:\n",
    "        print(f'Error while plotting bar graph - {err}')\n",
    "    print('A bar graph shows the total number of arrests for every level of offense in each of New York\\'s five boroughs. The graph shows that Bronx has the most arrests for misdemeanor offenses, while Brooklyn has the most arrests for felony and violation offenses. In all three categories, Staten Island has the fewest arrests')"
   ]
  },
  {
   "cell_type": "markdown",
   "metadata": {},
   "source": [
    "Funtion to Plot a bar graph of Total Arrests based on the Level of Offense"
   ]
  },
  {
   "cell_type": "code",
   "execution_count": null,
   "metadata": {},
   "outputs": [],
   "source": [
    "def Plot_DiffLevelOfOffenseBarGraph(dataFrame):\n",
    "    print('Plotting a bar graph of Total Arrests based on the Level of Offense')\n",
    "    try:\n",
    "        levelOfOffenseDict = dataFrame['level_of_offense'].value_counts().to_dict()\n",
    "        levelOfOffensDataFrame = pd.DataFrame(levelOfOffenseDict.items())\n",
    "        display(levelOfOffensDataFrame)\n",
    "        \n",
    "        fig = px.bar(levelOfOffensDataFrame, x=0, y=1, \n",
    "                     labels={'0':'Level Of Offense', '1':'Total Arrests'},\n",
    "                     color_discrete_sequence=['#bcdb30', '#ed0942', '#3066db'], \n",
    "                     height=500, title = 'Total Arrests based on the Level of Offense')\n",
    "        fig.show()\n",
    "    except Exception as err:\n",
    "        print(f'Error while plotting bar graph - {err}')\n",
    "    print('Figure shows the total number of arrests for each type of offense. The graph shows that more arrests were for misdemeanors than Felonies, which were considered to be much more serious crime than misdemeanors.')"
   ]
  },
  {
   "cell_type": "markdown",
   "metadata": {},
   "source": [
    "Funtion to Plot a stacked bar graph showing total number of arrests by age group and perpetrator gender"
   ]
  },
  {
   "cell_type": "code",
   "execution_count": null,
   "metadata": {},
   "outputs": [],
   "source": [
    "def Plot_AgeGroupBarGraph(dataFrame):\n",
    "    print('Plotting a stacked bar graph showing total number of arrests by age group and perpetrator gender')\n",
    "    try:\n",
    "        groupByDataFrame2 = dataFrame.groupby(['perpetrator_age_group','perpetrator_sex'], as_index=False)['offense_description'].count()\n",
    "        display(groupByDataFrame2)\n",
    "        fig = px.bar(groupByDataFrame2, x='perpetrator_age_group', y='offense_description', \n",
    "                     labels={'perpetrator_age_group':'Perpetrator Age Group', 'offense_description':'Total Arrests', 'perpetrator_sex':'Perpetrator Sex'}, \n",
    "                     color='perpetrator_sex', color_discrete_sequence=['#bcdb30', '#ed0942'],\n",
    "                     height=500, width=800, title='Total Number of Arrests by Age Group & Perpetrator Gender')\n",
    "        fig.update_layout(barmode='stack')\n",
    "        fig.update_xaxes(categoryorder='array', categoryarray= ['<18','18-24','25-44','45-64', '65+'])\n",
    "        fig.show()\n",
    "    except Exception as err:\n",
    "        print(f'Error while plotting bar graph - {err}')\n",
    "    print('The stacked bar graph illustrates that most of those arrested are from the 25-44 age group and are male.')"
   ]
  },
  {
   "cell_type": "markdown",
   "metadata": {},
   "source": [
    "Funtion to Plot a bar graph showing Arrests based on the Top Twenty crimes"
   ]
  },
  {
   "cell_type": "code",
   "execution_count": null,
   "metadata": {},
   "outputs": [],
   "source": [
    "def Plot_TopTwentyCrimeBarGraph(dataFrame):\n",
    "    print('Plotting a bar graph showing Arrests based on the Top Twenty crimes')\n",
    "    try:\n",
    "        topTwentyOffenseSeries = dataFrame['offense_description'].value_counts().head(20).to_dict()\n",
    "        topTwentyOffenseDataFrame=pd.DataFrame(topTwentyOffenseSeries.items())\n",
    "        display(topTwentyOffenseDataFrame)\n",
    "\n",
    "        fig = px.bar(topTwentyOffenseDataFrame, x=0, y=1, \n",
    "                     labels={'0':'Offense Description', '1':'Total Arrests'},color_discrete_sequence=['#ed0942'], height=600,\n",
    "                     title = 'Arrests based on the Top Twenty Crimes')\n",
    "        fig.show()\n",
    "    except Exception as err:\n",
    "        print(f'Error while plotting bar graph - {err}')\n",
    "    print('Figure shows the top twenty crimes in NYC for which arrests were made are listed. ')"
   ]
  },
  {
   "cell_type": "markdown",
   "metadata": {},
   "source": [
    "Function to Plot stacked bar graph showing Total Arrests of different crimes based on Perpetrator Race"
   ]
  },
  {
   "cell_type": "code",
   "execution_count": null,
   "metadata": {},
   "outputs": [],
   "source": [
    "def Plot_DiffCrimesWithRace(dataFrame):\n",
    "    print('Plotting stacked bar graph showing Total Arrests of different crimes based on Perpetrator Race')\n",
    "    try:\n",
    "        groupByDataFrame3 = dataFrame.groupby(['perpetrator_race','offense_description'], as_index=False)['internal_Classification_description'].count()\n",
    "        display(groupByDataFrame3)\n",
    "        fig = px.bar(groupByDataFrame3.sort_values(by='internal_Classification_description', ascending=False), \n",
    "                     x='offense_description', y='internal_Classification_description', \n",
    "                     labels={'perpetrator_race':'Perpetrator Race', 'internal_Classification_description':'Total Arrests', 'offense_description': 'Offense Description'},\n",
    "                     hover_data=['offense_description', 'internal_Classification_description'], \n",
    "                     color='perpetrator_race', height=900, width=1100, title='Total Arrests of different crimes based on Perpetrator Race')\n",
    "        fig.update_layout(barmode='stack')\n",
    "        fig.show()\n",
    "    except Exception as err:\n",
    "            print(f'Error while plotting bar graph - {err}')\n",
    "    print('The stacked bar indicates the number of crimes for which arrests were made and the degree of race-relationship with the crime')"
   ]
  },
  {
   "cell_type": "markdown",
   "metadata": {},
   "source": [
    "Funtion to plot Pie chart the Composition of Perpetrator Race amongst arrest made"
   ]
  },
  {
   "cell_type": "code",
   "execution_count": null,
   "metadata": {},
   "outputs": [],
   "source": [
    "def Plot_CompositionOfRacePie(dataFrame):\n",
    "    print('Plotting Pie chart the Composition of Perpetrator Race amongst arrest made')\n",
    "    try:\n",
    "        groupByDataFrame4 = dataFrame.groupby([\"perpetrator_race\",\"offense_description\"], as_index=False)[\"offense_description\"].count()\n",
    "\n",
    "        fig = px.pie(groupByDataFrame4, values='offense_description', names='perpetrator_race', \n",
    "                     title='Composition of Perpetrator Race amongst arrest made')\n",
    "        fig.show()\n",
    "        groupByDataFrame4\n",
    "    except Exception as err:\n",
    "            print(f'Error while plotting bar graph - {err}')  \n",
    "    print('A pie chart showcases the composition of the Perpetrator race amongst the arrests made. A more significant percentage of arrests are for blacks, followed by whites and Hispanics')"
   ]
  },
  {
   "cell_type": "markdown",
   "metadata": {},
   "source": [
    "### PostgreSQL"
   ]
  },
  {
   "cell_type": "markdown",
   "metadata": {},
   "source": [
    "This funtion will create a database and table in PostgreSQL"
   ]
  },
  {
   "cell_type": "code",
   "execution_count": null,
   "metadata": {},
   "outputs": [],
   "source": [
    "def PostgreSQL_CreateDBAndTable(dbConnectionDict, dbName, tableName, dataFrame):\n",
    "    try:\n",
    "        # Making a connection with PostgreSQL database\n",
    "        dbConnection = psycopg2.connect(**dbConnectionDict)\n",
    "        # To perform AUTOCOMMIT operation\n",
    "        dbConnection.set_isolation_level(0) \n",
    "        # Creating a DB cursor\n",
    "        dbCursor = dbConnection.cursor() \n",
    "        # Executing SQL statement using DB cursor\n",
    "        # Block of code checks if dbName already exists in Postgre. If doesnt not exist it will create a new db\n",
    "        dbCursor.execute(f\"SELECT 1 FROM pg_catalog.pg_database WHERE datname = '{dbName}'\")\n",
    "        exists = dbCursor.fetchone()\n",
    "        if not exists:\n",
    "            dbCursor.execute(f'CREATE DATABASE {dbName}')\n",
    "        print(f'Database {dbName} successfully created.')\n",
    "        # Creating a SQL Alchemy engine to connect to dbName in postgresql using below mentioned connection string\n",
    "        engine = create_engine(f\"postgresql+psycopg2://{dbConnectionDict['user']}:{dbConnectionDict['password']}@{dbConnectionDict['host']}:{dbConnectionDict['port']}/{dbName}\")\n",
    "        # Using above created connection,creating table in dbName\n",
    "        dataFrame.to_sql(tableName, con=engine, index=False, if_exists='replace')\n",
    "        print(f'Table {tableName} successfully created.')\n",
    "    except (Exception, psycopg2.Error) as dbError :\n",
    "        print (\"Error while connecting to PostgreSQL\", dbError)\n",
    "    finally:\n",
    "        if(dbCursor):\n",
    "            dbCursor.close()\n",
    "        if(dbConnection): \n",
    "            dbConnection.close()\n",
    "        if(engine): \n",
    "            engine.dispose()      "
   ]
  },
  {
   "cell_type": "code",
   "execution_count": null,
   "metadata": {
    "scrolled": false
   },
   "outputs": [],
   "source": [
    "Main_NYPDArrestData()"
   ]
  },
  {
   "cell_type": "code",
   "execution_count": null,
   "metadata": {},
   "outputs": [],
   "source": []
  }
 ],
 "metadata": {
  "kernelspec": {
   "display_name": "Python 3",
   "language": "python",
   "name": "python3"
  },
  "language_info": {
   "codemirror_mode": {
    "name": "ipython",
    "version": 3
   },
   "file_extension": ".py",
   "mimetype": "text/x-python",
   "name": "python",
   "nbconvert_exporter": "python",
   "pygments_lexer": "ipython3",
   "version": "3.8.8"
  }
 },
 "nbformat": 4,
 "nbformat_minor": 4
}
